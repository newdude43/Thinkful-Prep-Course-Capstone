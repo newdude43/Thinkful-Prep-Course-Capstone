{
 "cells": [
  {
   "cell_type": "markdown",
   "metadata": {},
   "source": [
    "# <h1><center>Top Spotify Tracks of 2017</center></h1>\n",
    "---"
   ]
  },
  {
   "cell_type": "markdown",
   "metadata": {},
   "source": [
    "# Data"
   ]
  },
  {
   "cell_type": "markdown",
   "metadata": {},
   "source": [
    "The data listed below includes the names, artists, Spotify URIs and audio features of tracks from Spotify's \"Top 100 Tracks of 2017\" playlist. Descriptions of audio features are from the Spotify Web API.\n",
    "\n",
    "In analyzing this data, I would like to show similarities as well as differences between the tracks.  By analyzing the different categories of each song, what characteristics are most common?  What songs are the most \"formula\" songs in the list?\n",
    "\n",
    "This analysis should provide a good base to predict characteristics for a similar list in 2018 if musical listening trends are to continue as they are currently."
   ]
  },
  {
   "cell_type": "markdown",
   "metadata": {},
   "source": [
    "Data provided by Nadin Tamer via kaggle.com"
   ]
  },
  {
   "cell_type": "code",
   "execution_count": 44,
   "metadata": {},
   "outputs": [],
   "source": [
    "import pandas as pd\n",
    "import matplotlib.pyplot as plt\n",
    "import numpy as np"
   ]
  },
  {
   "cell_type": "code",
   "execution_count": 45,
   "metadata": {},
   "outputs": [],
   "source": [
    "df = pd.read_csv('featuresdf.csv')"
   ]
  },
  {
   "cell_type": "code",
   "execution_count": 46,
   "metadata": {
    "scrolled": false
   },
   "outputs": [
    {
     "data": {
      "text/html": [
       "<div>\n",
       "<style scoped>\n",
       "    .dataframe tbody tr th:only-of-type {\n",
       "        vertical-align: middle;\n",
       "    }\n",
       "\n",
       "    .dataframe tbody tr th {\n",
       "        vertical-align: top;\n",
       "    }\n",
       "\n",
       "    .dataframe thead th {\n",
       "        text-align: right;\n",
       "    }\n",
       "</style>\n",
       "<table border=\"1\" class=\"dataframe\">\n",
       "  <thead>\n",
       "    <tr style=\"text-align: right;\">\n",
       "      <th></th>\n",
       "      <th>id</th>\n",
       "      <th>name</th>\n",
       "      <th>artists</th>\n",
       "      <th>danceability</th>\n",
       "      <th>energy</th>\n",
       "      <th>key</th>\n",
       "      <th>loudness</th>\n",
       "      <th>mode</th>\n",
       "      <th>speechiness</th>\n",
       "      <th>acousticness</th>\n",
       "      <th>instrumentalness</th>\n",
       "      <th>liveness</th>\n",
       "      <th>valence</th>\n",
       "      <th>tempo</th>\n",
       "      <th>duration_ms</th>\n",
       "      <th>time_signature</th>\n",
       "    </tr>\n",
       "  </thead>\n",
       "  <tbody>\n",
       "    <tr>\n",
       "      <th>0</th>\n",
       "      <td>7qiZfU4dY1lWllzX7mPBI</td>\n",
       "      <td>Shape of You</td>\n",
       "      <td>Ed Sheeran</td>\n",
       "      <td>0.825</td>\n",
       "      <td>0.652</td>\n",
       "      <td>1.0</td>\n",
       "      <td>-3.183</td>\n",
       "      <td>0.0</td>\n",
       "      <td>0.0802</td>\n",
       "      <td>0.5810</td>\n",
       "      <td>0.000000</td>\n",
       "      <td>0.0931</td>\n",
       "      <td>0.931</td>\n",
       "      <td>95.977</td>\n",
       "      <td>233713.0</td>\n",
       "      <td>4.0</td>\n",
       "    </tr>\n",
       "    <tr>\n",
       "      <th>1</th>\n",
       "      <td>5CtI0qwDJkDQGwXD1H1cL</td>\n",
       "      <td>Despacito - Remix</td>\n",
       "      <td>Luis Fonsi</td>\n",
       "      <td>0.694</td>\n",
       "      <td>0.815</td>\n",
       "      <td>2.0</td>\n",
       "      <td>-4.328</td>\n",
       "      <td>1.0</td>\n",
       "      <td>0.1200</td>\n",
       "      <td>0.2290</td>\n",
       "      <td>0.000000</td>\n",
       "      <td>0.0924</td>\n",
       "      <td>0.813</td>\n",
       "      <td>88.931</td>\n",
       "      <td>228827.0</td>\n",
       "      <td>4.0</td>\n",
       "    </tr>\n",
       "    <tr>\n",
       "      <th>2</th>\n",
       "      <td>4aWmUDTfIPGksMNLV2rQP</td>\n",
       "      <td>Despacito (Featuring Daddy Yankee)</td>\n",
       "      <td>Luis Fonsi</td>\n",
       "      <td>0.660</td>\n",
       "      <td>0.786</td>\n",
       "      <td>2.0</td>\n",
       "      <td>-4.757</td>\n",
       "      <td>1.0</td>\n",
       "      <td>0.1700</td>\n",
       "      <td>0.2090</td>\n",
       "      <td>0.000000</td>\n",
       "      <td>0.1120</td>\n",
       "      <td>0.846</td>\n",
       "      <td>177.833</td>\n",
       "      <td>228200.0</td>\n",
       "      <td>4.0</td>\n",
       "    </tr>\n",
       "    <tr>\n",
       "      <th>3</th>\n",
       "      <td>6RUKPb4LETWmmr3iAEQkt</td>\n",
       "      <td>Something Just Like This</td>\n",
       "      <td>The Chainsmokers</td>\n",
       "      <td>0.617</td>\n",
       "      <td>0.635</td>\n",
       "      <td>11.0</td>\n",
       "      <td>-6.769</td>\n",
       "      <td>0.0</td>\n",
       "      <td>0.0317</td>\n",
       "      <td>0.0498</td>\n",
       "      <td>0.000014</td>\n",
       "      <td>0.1640</td>\n",
       "      <td>0.446</td>\n",
       "      <td>103.019</td>\n",
       "      <td>247160.0</td>\n",
       "      <td>4.0</td>\n",
       "    </tr>\n",
       "    <tr>\n",
       "      <th>4</th>\n",
       "      <td>3DXncPQOG4VBw3QHh3S81</td>\n",
       "      <td>I'm the One</td>\n",
       "      <td>DJ Khaled</td>\n",
       "      <td>0.609</td>\n",
       "      <td>0.668</td>\n",
       "      <td>7.0</td>\n",
       "      <td>-4.284</td>\n",
       "      <td>1.0</td>\n",
       "      <td>0.0367</td>\n",
       "      <td>0.0552</td>\n",
       "      <td>0.000000</td>\n",
       "      <td>0.1670</td>\n",
       "      <td>0.811</td>\n",
       "      <td>80.924</td>\n",
       "      <td>288600.0</td>\n",
       "      <td>4.0</td>\n",
       "    </tr>\n",
       "  </tbody>\n",
       "</table>\n",
       "</div>"
      ],
      "text/plain": [
       "                      id                                name  \\\n",
       "0  7qiZfU4dY1lWllzX7mPBI                        Shape of You   \n",
       "1  5CtI0qwDJkDQGwXD1H1cL                   Despacito - Remix   \n",
       "2  4aWmUDTfIPGksMNLV2rQP  Despacito (Featuring Daddy Yankee)   \n",
       "3  6RUKPb4LETWmmr3iAEQkt            Something Just Like This   \n",
       "4  3DXncPQOG4VBw3QHh3S81                         I'm the One   \n",
       "\n",
       "            artists  danceability  energy   key  loudness  mode  speechiness  \\\n",
       "0        Ed Sheeran         0.825   0.652   1.0    -3.183   0.0       0.0802   \n",
       "1        Luis Fonsi         0.694   0.815   2.0    -4.328   1.0       0.1200   \n",
       "2        Luis Fonsi         0.660   0.786   2.0    -4.757   1.0       0.1700   \n",
       "3  The Chainsmokers         0.617   0.635  11.0    -6.769   0.0       0.0317   \n",
       "4         DJ Khaled         0.609   0.668   7.0    -4.284   1.0       0.0367   \n",
       "\n",
       "   acousticness  instrumentalness  liveness  valence    tempo  duration_ms  \\\n",
       "0        0.5810          0.000000    0.0931    0.931   95.977     233713.0   \n",
       "1        0.2290          0.000000    0.0924    0.813   88.931     228827.0   \n",
       "2        0.2090          0.000000    0.1120    0.846  177.833     228200.0   \n",
       "3        0.0498          0.000014    0.1640    0.446  103.019     247160.0   \n",
       "4        0.0552          0.000000    0.1670    0.811   80.924     288600.0   \n",
       "\n",
       "   time_signature  \n",
       "0             4.0  \n",
       "1             4.0  \n",
       "2             4.0  \n",
       "3             4.0  \n",
       "4             4.0  "
      ]
     },
     "execution_count": 46,
     "metadata": {},
     "output_type": "execute_result"
    }
   ],
   "source": [
    "df.head()"
   ]
  },
  {
   "cell_type": "markdown",
   "metadata": {},
   "source": [
    "## Here is a clear definition for each column:"
   ]
  },
  {
   "cell_type": "markdown",
   "metadata": {},
   "source": [
    "## id\n",
    "Spotify URI of the song\n",
    "## name\n",
    "Name of the song\n",
    "## artists \n",
    "Artist(s) of the song\n",
    "## danceability \n",
    "Danceability describes how suitable a track is for dancing based on a combination of \n",
    "musical elements including tempo, rhythm stability, beat strength, \n",
    "and overall regularity. A value of 0.0 is least danceable and 1.0 is most danceable.\n",
    "## energy \n",
    "Energy is a measure from 0.0 to 1.0 and represents a perceptual measure of intensity and activity. \n",
    "Typically, energetic tracks feel fast, loud, and noisy. For example, death metal has high energy, \n",
    "while a Bach prelude scores low on the scale. Perceptual features contributing to this attribute \n",
    "include dynamic range, perceived loudness, timbre, onset rate, and general entropy.\n",
    "## key\n",
    "The key the track is in. Integers map to pitches using standard Pitch Class notation. \n",
    "E.g. 0 = C, 1 = C♯/D♭, 2 = D, and so on. \n",
    "## loudness\n",
    "The overall loudness of a track in decibels (dB). Loudness values are averaged across the \n",
    "entire track and are useful for comparing relative loudness of tracks. \n",
    "Loudness is the quality of a sound that is the primary psychological correlate of physical strength (amplitude). \n",
    "Values typical range between -60 and 0 db.\n",
    "## mode\n",
    "Mode indicates the modality (major or minor) of a track, the type of scale from which its melodic content is derived. Major is represented by 1 and minor is 0.\n",
    "## speechiness\n",
    "Speechiness detects the presence of spoken words in a track. The more exclusively speech-like the recording (e.g. talk show, audio book, poetry), the closer to 1.0 the attribute value. Values above 0.66 describe tracks that are probably made entirely of spoken words. Values between 0.33 and 0.66 describe tracks that may contain both music and speech, either in sections or layered, including such cases as rap music. Values below 0.33 most likely represent music and other non-speech-like tracks.\n",
    "## acousticness\n",
    "A confidence measure from 0.0 to 1.0 of whether the track is acoustic. 1.0 represents high confidence the track is acoustic.\n",
    "## instrumentalness\n",
    "Predicts whether a track contains no vocals. \"Ooh\" and \"aah\" sounds are treated as instrumental in this context. Rap or spoken word tracks are clearly \"vocal\". The closer the instrumentalness value is to 1.0, the greater likelihood the track contains no vocal content. Values above 0.5 are intended to represent instrumental tracks, but confidence is higher as the value approaches 1.0.\n",
    "## liveness\n",
    "Detects the presence of an audience in the recording. Higher liveness values represent an increased probability that the track was performed live. A value above 0.8 provides strong likelihood that the track is live.\n",
    "## valence\n",
    "A measure from 0.0 to 1.0 describing the musical positiveness conveyed by a track. Tracks with high valence sound more positive (e.g. happy, cheerful, euphoric), while tracks with low valence sound more negative (e.g. sad, depressed, angry).\n",
    "## tempo\n",
    "The overall estimated tempo of a track in beats per minute (BPM). In musical terminology, tempo is the speed or pace of a given piece and derives directly from the average beat duration.\n",
    "## duration_ms\n",
    "The duration of the track in milliseconds.\n",
    "## time_signature\n",
    "An estimated overall time signature of a track. The time signature (meter) is a notational convention to specify how many beats are in each bar (or measure).\n",
    "\n"
   ]
  },
  {
   "cell_type": "markdown",
   "metadata": {},
   "source": [
    "# <h1><center>Analytics</center></h1>\n",
    "***"
   ]
  },
  {
   "cell_type": "markdown",
   "metadata": {},
   "source": [
    "Now that all columns are defined, we will take a look at the common factors,\n",
    "as well as the differences, between Spotify's \"Top 100 Tracks of 2017.\"\n",
    "Let's start with \"time signature,\" \"key,\" and \"mode.\""
   ]
  },
  {
   "cell_type": "markdown",
   "metadata": {},
   "source": [
    "## What is the average time signature of the tracks?"
   ]
  },
  {
   "cell_type": "code",
   "execution_count": 47,
   "metadata": {},
   "outputs": [
    {
     "data": {
      "text/plain": [
       "3.99"
      ]
     },
     "execution_count": 47,
     "metadata": {},
     "output_type": "execute_result"
    }
   ],
   "source": [
    "df['time_signature'].mean()"
   ]
  },
  {
   "cell_type": "markdown",
   "metadata": {},
   "source": [
    "## This shows almost all tracks have a 4/4 time signature (think 1, 2, 3, 4 as your beat)."
   ]
  },
  {
   "cell_type": "code",
   "execution_count": 48,
   "metadata": {},
   "outputs": [
    {
     "data": {
      "text/plain": [
       "key\n",
       "0.0     4.000000\n",
       "1.0     4.000000\n",
       "2.0     4.000000\n",
       "3.0     4.000000\n",
       "4.0     4.000000\n",
       "5.0     4.000000\n",
       "6.0     4.000000\n",
       "7.0     4.000000\n",
       "8.0     3.916667\n",
       "9.0     4.000000\n",
       "10.0    4.000000\n",
       "11.0    4.000000\n",
       "Name: time_signature, dtype: float64"
      ]
     },
     "execution_count": 48,
     "metadata": {},
     "output_type": "execute_result"
    }
   ],
   "source": [
    "df.groupby('key')['time_signature'].mean()"
   ]
  },
  {
   "cell_type": "markdown",
   "metadata": {},
   "source": [
    "## The time signature evaluation concludes that all musical keys are represented in the data set.  \n",
    "8.0, or the key of Ab Major (or F Minor if song is in Minor Mode), is the only key that is not completely made of 4/4 songs."
   ]
  },
  {
   "cell_type": "markdown",
   "metadata": {},
   "source": [
    "## Out of 12 options, what musical keys are represented?"
   ]
  },
  {
   "cell_type": "code",
   "execution_count": 49,
   "metadata": {},
   "outputs": [
    {
     "data": {
      "text/plain": [
       "1.0     14\n",
       "11.0    13\n",
       "8.0     12\n",
       "0.0     10\n",
       "9.0      9\n",
       "5.0      9\n",
       "6.0      9\n",
       "2.0      8\n",
       "7.0      7\n",
       "4.0      4\n",
       "10.0     4\n",
       "3.0      1\n",
       "Name: key, dtype: int64"
      ]
     },
     "execution_count": 49,
     "metadata": {},
     "output_type": "execute_result"
    }
   ],
   "source": [
    "df['key'].value_counts()"
   ]
  },
  {
   "cell_type": "code",
   "execution_count": 50,
   "metadata": {},
   "outputs": [],
   "source": [
    "key_summary = df['key'].value_counts()"
   ]
  },
  {
   "cell_type": "code",
   "execution_count": 51,
   "metadata": {},
   "outputs": [
    {
     "data": {
      "image/png": "[encoded data removed]",
      "text/plain": [
       "<Figure size 720x432 with 1 Axes>"
      ]
     },
     "metadata": {},
     "output_type": "display_data"
    }
   ],
   "source": [
    "with plt.style.context('fivethirtyeight'):\n",
    "    key_plot = key_summary.plot(kind = 'bar', figsize = [10, 6])\n",
    "    key_plot.set_xlabel('Keys')\n",
    "    key_plot.set_ylabel('Number of Songs')\n",
    "    key_plot.set_title('Musical Keys')\n",
    "    plt.xticks(rotation=90)\n",
    "    plt.show()"
   ]
  },
  {
   "cell_type": "markdown",
   "metadata": {},
   "source": [
    "All musical keys are represented and are pretty spread out.  There is only 1 song in the key of Eb Major/C Minor (3.0)."
   ]
  },
  {
   "cell_type": "markdown",
   "metadata": {},
   "source": [
    "## How many songs are in a Major key?  How many are Minor?"
   ]
  },
  {
   "cell_type": "code",
   "execution_count": 52,
   "metadata": {},
   "outputs": [
    {
     "data": {
      "text/plain": [
       "1.0    58\n",
       "0.0    42\n",
       "Name: mode, dtype: int64"
      ]
     },
     "execution_count": 52,
     "metadata": {},
     "output_type": "execute_result"
    }
   ],
   "source": [
    "df['mode'].value_counts()"
   ]
  },
  {
   "cell_type": "markdown",
   "metadata": {},
   "source": [
    "1.0 represents a Major key.  0.0 represents a Minor key.\n",
    "A major key is typically a \"happier\" sounding key, whereas a a minor key can either be defined as a more \"sad\" or \"moody\" type of key.  **58%** of the songs in the entire playlist are in a **Major key**."
   ]
  },
  {
   "cell_type": "markdown",
   "metadata": {},
   "source": [
    "## Going back to the key of \"8.0,\" how many tracks are in Ab Major?  \n",
    "## How many are in F Minor?"
   ]
  },
  {
   "cell_type": "code",
   "execution_count": 53,
   "metadata": {
    "scrolled": true
   },
   "outputs": [
    {
     "data": {
      "text/plain": [
       "key  mode\n",
       "8.0  1.0     8\n",
       "     0.0     4\n",
       "Name: mode, dtype: int64"
      ]
     },
     "execution_count": 53,
     "metadata": {},
     "output_type": "execute_result"
    }
   ],
   "source": [
    "df_eight = df[(df['key'] == 8.0)]\n",
    "df_eight.groupby('key')['mode'].value_counts()"
   ]
  },
  {
   "cell_type": "markdown",
   "metadata": {},
   "source": [
    "There are **8 tracks in Ab Major** and **4 tracks in F Minor**.  These musical keys share all the same notes; however, \n",
    "the notes receive different emphasis and thus are classified in different modes (Major Key Vs. Minor Key)."
   ]
  },
  {
   "cell_type": "markdown",
   "metadata": {},
   "source": [
    "## Since valence is defined to be how happy/sad a song is, \n",
    "## what is the valence represented in both modes?"
   ]
  },
  {
   "cell_type": "code",
   "execution_count": 54,
   "metadata": {},
   "outputs": [
    {
     "data": {
      "text/plain": [
       "mode\n",
       "0.0    0.522921\n",
       "1.0    0.512797\n",
       "Name: valence, dtype: float64"
      ]
     },
     "execution_count": 54,
     "metadata": {},
     "output_type": "execute_result"
    }
   ],
   "source": [
    "df.groupby('mode')['valence'].mean()"
   ]
  },
  {
   "cell_type": "code",
   "execution_count": 55,
   "metadata": {},
   "outputs": [
    {
     "data": {
      "image/png": "[encoded data removed]",
      "text/plain": [
       "<Figure size 720x720 with 1 Axes>"
      ]
     },
     "metadata": {},
     "output_type": "display_data"
    }
   ],
   "source": [
    "with plt.style.context('dark_background'):\n",
    "    plt.figure(figsize=(10,10))\n",
    "    plt.scatter(x=df['mode'], y = df['valence'], color = 'red' )\n",
    "    plt.xlabel('Mode')\n",
    "    plt.ylabel('Valence')\n",
    "    plt.title('Mode Vs. Valence')\n",
    "    plt.show()"
   ]
  },
  {
   "cell_type": "markdown",
   "metadata": {},
   "source": [
    "Valence is pretty similar whether classified as Major or Minor."
   ]
  },
  {
   "cell_type": "markdown",
   "metadata": {},
   "source": [
    "## What is the average duration of the songs in the data set?"
   ]
  },
  {
   "cell_type": "code",
   "execution_count": 56,
   "metadata": {},
   "outputs": [
    {
     "data": {
      "text/plain": [
       "218387.28"
      ]
     },
     "execution_count": 56,
     "metadata": {},
     "output_type": "execute_result"
    }
   ],
   "source": [
    "df['duration_ms'].mean()"
   ]
  },
  {
   "cell_type": "markdown",
   "metadata": {},
   "source": [
    "Convert milliseconds to minutes:"
   ]
  },
  {
   "cell_type": "code",
   "execution_count": 57,
   "metadata": {},
   "outputs": [
    {
     "data": {
      "text/plain": [
       "3.6397880000000002"
      ]
     },
     "execution_count": 57,
     "metadata": {},
     "output_type": "execute_result"
    }
   ],
   "source": [
    "(218387.28 * 0.001) / 60"
   ]
  },
  {
   "cell_type": "markdown",
   "metadata": {},
   "source": [
    "The average duration of a song in the dataset is **3.64 minutes**.  This is pretty standard for popular songs, which typically last about 3-4 minutes in length."
   ]
  },
  {
   "cell_type": "code",
   "execution_count": 58,
   "metadata": {},
   "outputs": [
    {
     "data": {
      "image/png": "[encoded data removed]",
      "text/plain": [
       "<Figure size 432x288 with 1 Axes>"
      ]
     },
     "metadata": {},
     "output_type": "display_data"
    }
   ],
   "source": [
    "dur_ms = df['duration_ms']\n",
    "mean = np.mean(dur_ms)\n",
    "sd = np.std(dur_ms)\n",
    "\n",
    "plt.hist(dur_ms)\n",
    "plt.axvline(x=mean,color='black')\n",
    "plt.axvline(x=mean+sd, color='red')\n",
    "plt.axvline(x=mean-sd, color='red')\n",
    "plt.show()"
   ]
  },
  {
   "cell_type": "markdown",
   "metadata": {},
   "source": [
    "Most of the songs are between **187,500 & 237,500 ms**.  There is a skew to the right."
   ]
  },
  {
   "cell_type": "markdown",
   "metadata": {},
   "source": [
    "## What tempo is most common?"
   ]
  },
  {
   "cell_type": "code",
   "execution_count": 59,
   "metadata": {},
   "outputs": [
    {
     "data": {
      "image/png": "[encoded data removed]",
      "text/plain": [
       "<Figure size 432x288 with 1 Axes>"
      ]
     },
     "metadata": {},
     "output_type": "display_data"
    }
   ],
   "source": [
    "plt.hist(df['tempo'].dropna(), color='red')\n",
    "plt.title('Tempo')\n",
    "plt.show()"
   ]
  },
  {
   "cell_type": "markdown",
   "metadata": {},
   "source": [
    "## Most songs are in the 90-125 bpm range."
   ]
  },
  {
   "cell_type": "markdown",
   "metadata": {},
   "source": [
    "One issue with this, as illustrated with **\"Despacito - Remix\"** and **\"Despacito (Featuring Daddy Yankee)** is that tempo's can be calculated in different ways.  For example, both versions are essentially the same song with the same beat; however, they are listed with different tempos."
   ]
  },
  {
   "cell_type": "code",
   "execution_count": 60,
   "metadata": {},
   "outputs": [
    {
     "data": {
      "text/html": [
       "<div>\n",
       "<style scoped>\n",
       "    .dataframe tbody tr th:only-of-type {\n",
       "        vertical-align: middle;\n",
       "    }\n",
       "\n",
       "    .dataframe tbody tr th {\n",
       "        vertical-align: top;\n",
       "    }\n",
       "\n",
       "    .dataframe thead th {\n",
       "        text-align: right;\n",
       "    }\n",
       "</style>\n",
       "<table border=\"1\" class=\"dataframe\">\n",
       "  <thead>\n",
       "    <tr style=\"text-align: right;\">\n",
       "      <th></th>\n",
       "      <th>id</th>\n",
       "      <th>name</th>\n",
       "      <th>artists</th>\n",
       "      <th>danceability</th>\n",
       "      <th>energy</th>\n",
       "      <th>key</th>\n",
       "      <th>loudness</th>\n",
       "      <th>mode</th>\n",
       "      <th>speechiness</th>\n",
       "      <th>acousticness</th>\n",
       "      <th>instrumentalness</th>\n",
       "      <th>liveness</th>\n",
       "      <th>valence</th>\n",
       "      <th>tempo</th>\n",
       "      <th>duration_ms</th>\n",
       "      <th>time_signature</th>\n",
       "    </tr>\n",
       "  </thead>\n",
       "  <tbody>\n",
       "    <tr>\n",
       "      <th>1</th>\n",
       "      <td>5CtI0qwDJkDQGwXD1H1cL</td>\n",
       "      <td>Despacito - Remix</td>\n",
       "      <td>Luis Fonsi</td>\n",
       "      <td>0.694</td>\n",
       "      <td>0.815</td>\n",
       "      <td>2.0</td>\n",
       "      <td>-4.328</td>\n",
       "      <td>1.0</td>\n",
       "      <td>0.12</td>\n",
       "      <td>0.229</td>\n",
       "      <td>0.0</td>\n",
       "      <td>0.0924</td>\n",
       "      <td>0.813</td>\n",
       "      <td>88.931</td>\n",
       "      <td>228827.0</td>\n",
       "      <td>4.0</td>\n",
       "    </tr>\n",
       "    <tr>\n",
       "      <th>2</th>\n",
       "      <td>4aWmUDTfIPGksMNLV2rQP</td>\n",
       "      <td>Despacito (Featuring Daddy Yankee)</td>\n",
       "      <td>Luis Fonsi</td>\n",
       "      <td>0.660</td>\n",
       "      <td>0.786</td>\n",
       "      <td>2.0</td>\n",
       "      <td>-4.757</td>\n",
       "      <td>1.0</td>\n",
       "      <td>0.17</td>\n",
       "      <td>0.209</td>\n",
       "      <td>0.0</td>\n",
       "      <td>0.1120</td>\n",
       "      <td>0.846</td>\n",
       "      <td>177.833</td>\n",
       "      <td>228200.0</td>\n",
       "      <td>4.0</td>\n",
       "    </tr>\n",
       "  </tbody>\n",
       "</table>\n",
       "</div>"
      ],
      "text/plain": [
       "                      id                                name     artists  \\\n",
       "1  5CtI0qwDJkDQGwXD1H1cL                   Despacito - Remix  Luis Fonsi   \n",
       "2  4aWmUDTfIPGksMNLV2rQP  Despacito (Featuring Daddy Yankee)  Luis Fonsi   \n",
       "\n",
       "   danceability  energy  key  loudness  mode  speechiness  acousticness  \\\n",
       "1         0.694   0.815  2.0    -4.328   1.0         0.12         0.229   \n",
       "2         0.660   0.786  2.0    -4.757   1.0         0.17         0.209   \n",
       "\n",
       "   instrumentalness  liveness  valence    tempo  duration_ms  time_signature  \n",
       "1               0.0    0.0924    0.813   88.931     228827.0             4.0  \n",
       "2               0.0    0.1120    0.846  177.833     228200.0             4.0  "
      ]
     },
     "execution_count": 60,
     "metadata": {},
     "output_type": "execute_result"
    }
   ],
   "source": [
    "df[(df['artists'] == 'Luis Fonsi')].head()"
   ]
  },
  {
   "cell_type": "markdown",
   "metadata": {},
   "source": [
    "You will notice that **\"Despacito - Remix\"** has essentially half the tempo of **\"Despacito (Featuring Daddy Yankee).\"**  This illustrates tempo can be calculated in half time (cutting time signature in half) or double time (doubling current time signature).  This different use of tempo unfortunately skews our tempo evaluation.\n",
    "\n",
    "To zoom in on the larger representation of the data, below is a graph of all tempo's between **60 and 165 bpm**.  Keep in mind, **60 bpm in double time would be 120 bpm.**"
   ]
  },
  {
   "cell_type": "code",
   "execution_count": 61,
   "metadata": {},
   "outputs": [
    {
     "data": {
      "image/png": "[encoded data removed]",
      "text/plain": [
       "<Figure size 432x288 with 1 Axes>"
      ]
     },
     "metadata": {},
     "output_type": "display_data"
    }
   ],
   "source": [
    "tmpo = df['tempo'].dropna()\n",
    "mean = np.mean(tmpo)\n",
    "sd = np.std(tmpo)\n",
    "\n",
    "plt.hist(tmpo, color='purple')\n",
    "plt.axvline(x=mean,color='black')\n",
    "plt.axvline(x=mean+sd, color='red')\n",
    "plt.axvline(x=mean-sd, color='red')\n",
    "plt.xlim([60, 165])\n",
    "plt.show()"
   ]
  },
  {
   "cell_type": "code",
   "execution_count": 62,
   "metadata": {},
   "outputs": [
    {
     "data": {
      "text/plain": [
       "count    100.000000\n",
       "mean     119.202460\n",
       "std       27.952928\n",
       "min       75.016000\n",
       "25%       99.911750\n",
       "50%      112.468000\n",
       "75%      137.166000\n",
       "max      199.864000\n",
       "Name: tempo, dtype: float64"
      ]
     },
     "execution_count": 62,
     "metadata": {},
     "output_type": "execute_result"
    }
   ],
   "source": [
    "df['tempo'].describe()"
   ]
  },
  {
   "cell_type": "markdown",
   "metadata": {},
   "source": [
    "## What is the most common loudness for the songs?"
   ]
  },
  {
   "cell_type": "code",
   "execution_count": 63,
   "metadata": {},
   "outputs": [
    {
     "data": {
      "image/png": "[encoded data removed]",
      "text/plain": [
       "<Figure size 432x288 with 1 Axes>"
      ]
     },
     "metadata": {},
     "output_type": "display_data"
    }
   ],
   "source": [
    "ldness = df['loudness']\n",
    "mean = np.mean(ldness)\n",
    "sd = np.std(ldness)\n",
    "\n",
    "plt.hist(ldness)\n",
    "plt.axvline(x=mean,color='black')\n",
    "plt.axvline(x=mean+sd, color='red')\n",
    "plt.axvline(x=mean-sd, color='red')\n",
    "plt.show()"
   ]
  },
  {
   "cell_type": "code",
   "execution_count": 64,
   "metadata": {},
   "outputs": [
    {
     "data": {
      "text/plain": [
       "count    100.000000\n",
       "mean      -5.652650\n",
       "std        1.802067\n",
       "min      -11.462000\n",
       "25%       -6.594500\n",
       "50%       -5.437000\n",
       "75%       -4.326750\n",
       "max       -2.396000\n",
       "Name: loudness, dtype: float64"
      ]
     },
     "execution_count": 64,
     "metadata": {},
     "output_type": "execute_result"
    }
   ],
   "source": [
    "df['loudness'].describe()"
   ]
  },
  {
   "cell_type": "markdown",
   "metadata": {},
   "source": [
    "The Histogram for **\"loudness\"** shows a skew to the left.  Most of the songs are in the **-7db to -4.25db range**."
   ]
  },
  {
   "cell_type": "markdown",
   "metadata": {},
   "source": [
    "## Are there common factors in the data set between categories?"
   ]
  },
  {
   "cell_type": "markdown",
   "metadata": {},
   "source": [
    "## Loudness Vs. Acousticness"
   ]
  },
  {
   "cell_type": "code",
   "execution_count": 65,
   "metadata": {},
   "outputs": [
    {
     "data": {
      "image/png": "[encoded data removed]",
      "text/plain": [
       "<Figure size 720x720 with 1 Axes>"
      ]
     },
     "metadata": {},
     "output_type": "display_data"
    }
   ],
   "source": [
    "with plt.style.context('dark_background'):\n",
    "    plt.figure(figsize=(10,10))\n",
    "    plt.scatter(x=df['loudness'], y = df['acousticness'], color = 'white' )\n",
    "    plt.xlabel('Loudness')\n",
    "    plt.ylabel('Acousticness')\n",
    "    plt.title('Loudness Vs. Acousticness')\n",
    "    plt.show()"
   ]
  },
  {
   "cell_type": "markdown",
   "metadata": {},
   "source": [
    "This graph shows that a we have a cluster of songs in the **-7db to -3db** range that measure from **0.0 to 0.25** in \"acousticness\".  This makes sense in the fact that a good portion of the tracks measure higher in the \"loudness\" category but are relatively low in the \"acousticness\" category."
   ]
  },
  {
   "cell_type": "markdown",
   "metadata": {},
   "source": [
    "## Tempo Vs. Loudness"
   ]
  },
  {
   "cell_type": "code",
   "execution_count": 66,
   "metadata": {},
   "outputs": [
    {
     "data": {
      "image/png": "[encoded data removed]",
      "text/plain": [
       "<Figure size 720x720 with 1 Axes>"
      ]
     },
     "metadata": {},
     "output_type": "display_data"
    }
   ],
   "source": [
    "with plt.style.context('dark_background'):\n",
    "    plt.figure(figsize=(10,10))\n",
    "    plt.scatter(x=df['tempo'], y = df['loudness'], color = 'red' )\n",
    "    plt.xlabel('Tempo')\n",
    "    plt.ylabel('Loudness')\n",
    "    plt.title('Tempo Vs. Loudness')\n",
    "    plt.text(79, -11.8, \"Location\")\n",
    "    plt.text(112, -11.7, \"Passionfruit\")\n",
    "    plt.text(161, -10.7, \"Redbone\")\n",
    "    plt.show()"
   ]
  },
  {
   "cell_type": "code",
   "execution_count": 67,
   "metadata": {},
   "outputs": [
    {
     "data": {
      "text/html": [
       "<div>\n",
       "<style scoped>\n",
       "    .dataframe tbody tr th:only-of-type {\n",
       "        vertical-align: middle;\n",
       "    }\n",
       "\n",
       "    .dataframe tbody tr th {\n",
       "        vertical-align: top;\n",
       "    }\n",
       "\n",
       "    .dataframe thead th {\n",
       "        text-align: right;\n",
       "    }\n",
       "</style>\n",
       "<table border=\"1\" class=\"dataframe\">\n",
       "  <thead>\n",
       "    <tr style=\"text-align: right;\">\n",
       "      <th></th>\n",
       "      <th>id</th>\n",
       "      <th>name</th>\n",
       "      <th>artists</th>\n",
       "      <th>danceability</th>\n",
       "      <th>energy</th>\n",
       "      <th>key</th>\n",
       "      <th>loudness</th>\n",
       "      <th>mode</th>\n",
       "      <th>speechiness</th>\n",
       "      <th>acousticness</th>\n",
       "      <th>instrumentalness</th>\n",
       "      <th>liveness</th>\n",
       "      <th>valence</th>\n",
       "      <th>tempo</th>\n",
       "      <th>duration_ms</th>\n",
       "      <th>time_signature</th>\n",
       "    </tr>\n",
       "  </thead>\n",
       "  <tbody>\n",
       "    <tr>\n",
       "      <th>36</th>\n",
       "      <td>7hDc8b7IXETo14hHIHdnh</td>\n",
       "      <td>Passionfruit</td>\n",
       "      <td>Drake</td>\n",
       "      <td>0.809</td>\n",
       "      <td>0.463</td>\n",
       "      <td>11.0</td>\n",
       "      <td>-11.377</td>\n",
       "      <td>1.0</td>\n",
       "      <td>0.0396</td>\n",
       "      <td>0.256</td>\n",
       "      <td>0.085000</td>\n",
       "      <td>0.1090</td>\n",
       "      <td>0.364</td>\n",
       "      <td>111.980</td>\n",
       "      <td>298941.0</td>\n",
       "      <td>4.0</td>\n",
       "    </tr>\n",
       "    <tr>\n",
       "      <th>46</th>\n",
       "      <td>152lZdxL1OR0ZMW6KquMi</td>\n",
       "      <td>Location</td>\n",
       "      <td>Khalid</td>\n",
       "      <td>0.736</td>\n",
       "      <td>0.449</td>\n",
       "      <td>1.0</td>\n",
       "      <td>-11.462</td>\n",
       "      <td>0.0</td>\n",
       "      <td>0.4250</td>\n",
       "      <td>0.330</td>\n",
       "      <td>0.000162</td>\n",
       "      <td>0.0898</td>\n",
       "      <td>0.326</td>\n",
       "      <td>80.126</td>\n",
       "      <td>219080.0</td>\n",
       "      <td>4.0</td>\n",
       "    </tr>\n",
       "    <tr>\n",
       "      <th>58</th>\n",
       "      <td>3kxfsdsCpFgN412fpnW85</td>\n",
       "      <td>Redbone</td>\n",
       "      <td>Childish Gambino</td>\n",
       "      <td>0.743</td>\n",
       "      <td>0.359</td>\n",
       "      <td>1.0</td>\n",
       "      <td>-10.401</td>\n",
       "      <td>1.0</td>\n",
       "      <td>0.0794</td>\n",
       "      <td>0.199</td>\n",
       "      <td>0.006110</td>\n",
       "      <td>0.1370</td>\n",
       "      <td>0.587</td>\n",
       "      <td>160.083</td>\n",
       "      <td>326933.0</td>\n",
       "      <td>4.0</td>\n",
       "    </tr>\n",
       "  </tbody>\n",
       "</table>\n",
       "</div>"
      ],
      "text/plain": [
       "                       id          name           artists  danceability  \\\n",
       "36  7hDc8b7IXETo14hHIHdnh  Passionfruit             Drake         0.809   \n",
       "46  152lZdxL1OR0ZMW6KquMi      Location            Khalid         0.736   \n",
       "58  3kxfsdsCpFgN412fpnW85       Redbone  Childish Gambino         0.743   \n",
       "\n",
       "    energy   key  loudness  mode  speechiness  acousticness  instrumentalness  \\\n",
       "36   0.463  11.0   -11.377   1.0       0.0396         0.256          0.085000   \n",
       "46   0.449   1.0   -11.462   0.0       0.4250         0.330          0.000162   \n",
       "58   0.359   1.0   -10.401   1.0       0.0794         0.199          0.006110   \n",
       "\n",
       "    liveness  valence    tempo  duration_ms  time_signature  \n",
       "36    0.1090    0.364  111.980     298941.0             4.0  \n",
       "46    0.0898    0.326   80.126     219080.0             4.0  \n",
       "58    0.1370    0.587  160.083     326933.0             4.0  "
      ]
     },
     "execution_count": 67,
     "metadata": {},
     "output_type": "execute_result"
    }
   ],
   "source": [
    "df[(df['loudness'] < -10)].head()"
   ]
  },
  {
   "cell_type": "markdown",
   "metadata": {},
   "source": [
    "Most tracks with a tempo between **80 and 120bpm** are louder than **-8 db**.  The three labeled tracks with\n",
    "lower \"loudness\" cover a wide range of tempos.  How relatable to tempo is danceability?"
   ]
  },
  {
   "cell_type": "markdown",
   "metadata": {},
   "source": [
    "## Tempo Vs. Danceability"
   ]
  },
  {
   "cell_type": "code",
   "execution_count": 68,
   "metadata": {},
   "outputs": [
    {
     "data": {
      "image/png": "[encoded data removed]",
      "text/plain": [
       "<Figure size 720x720 with 1 Axes>"
      ]
     },
     "metadata": {},
     "output_type": "display_data"
    }
   ],
   "source": [
    "with plt.style.context('dark_background'):\n",
    "    plt.figure(figsize=(10,10))\n",
    "    plt.scatter(x=df['tempo'], y = df['danceability'], color = 'yellow' )\n",
    "    plt.xlabel('Tempo')\n",
    "    plt.ylabel('Danceability')\n",
    "    plt.title('Tempo Vs. Danceability')\n",
    "    plt.text(83, 0.34, \"Say You Won't Let Go\")\n",
    "    plt.text(178, 0.29, \"How Far I'll Go\")\n",
    "    plt.text(179, 0.23, \"Dusk Till Dawn\")\n",
    "    plt.show()"
   ]
  },
  {
   "cell_type": "code",
   "execution_count": 69,
   "metadata": {},
   "outputs": [
    {
     "data": {
      "text/html": [
       "<div>\n",
       "<style scoped>\n",
       "    .dataframe tbody tr th:only-of-type {\n",
       "        vertical-align: middle;\n",
       "    }\n",
       "\n",
       "    .dataframe tbody tr th {\n",
       "        vertical-align: top;\n",
       "    }\n",
       "\n",
       "    .dataframe thead th {\n",
       "        text-align: right;\n",
       "    }\n",
       "</style>\n",
       "<table border=\"1\" class=\"dataframe\">\n",
       "  <thead>\n",
       "    <tr style=\"text-align: right;\">\n",
       "      <th></th>\n",
       "      <th>id</th>\n",
       "      <th>name</th>\n",
       "      <th>artists</th>\n",
       "      <th>danceability</th>\n",
       "      <th>energy</th>\n",
       "      <th>key</th>\n",
       "      <th>loudness</th>\n",
       "      <th>mode</th>\n",
       "      <th>speechiness</th>\n",
       "      <th>acousticness</th>\n",
       "      <th>instrumentalness</th>\n",
       "      <th>liveness</th>\n",
       "      <th>valence</th>\n",
       "      <th>tempo</th>\n",
       "      <th>duration_ms</th>\n",
       "      <th>time_signature</th>\n",
       "    </tr>\n",
       "  </thead>\n",
       "  <tbody>\n",
       "    <tr>\n",
       "      <th>22</th>\n",
       "      <td>5uCax9HTNlzGybIStD3vD</td>\n",
       "      <td>Say You Won't Let Go</td>\n",
       "      <td>James Arthur</td>\n",
       "      <td>0.358</td>\n",
       "      <td>0.557</td>\n",
       "      <td>10.0</td>\n",
       "      <td>-7.398</td>\n",
       "      <td>1.0</td>\n",
       "      <td>0.059</td>\n",
       "      <td>0.695</td>\n",
       "      <td>0.000000</td>\n",
       "      <td>0.0902</td>\n",
       "      <td>0.4940</td>\n",
       "      <td>85.043</td>\n",
       "      <td>211467.0</td>\n",
       "      <td>4.0</td>\n",
       "    </tr>\n",
       "    <tr>\n",
       "      <th>66</th>\n",
       "      <td>5hYTyyh2odQKphUbMqc5g</td>\n",
       "      <td>How Far I'll Go - From \"Moana\"</td>\n",
       "      <td>Alessia Cara</td>\n",
       "      <td>0.314</td>\n",
       "      <td>0.555</td>\n",
       "      <td>9.0</td>\n",
       "      <td>-9.601</td>\n",
       "      <td>1.0</td>\n",
       "      <td>0.370</td>\n",
       "      <td>0.157</td>\n",
       "      <td>0.000108</td>\n",
       "      <td>0.0670</td>\n",
       "      <td>0.1590</td>\n",
       "      <td>179.666</td>\n",
       "      <td>175517.0</td>\n",
       "      <td>4.0</td>\n",
       "    </tr>\n",
       "    <tr>\n",
       "      <th>99</th>\n",
       "      <td>1j4kHkkpqZRBwE0A4CN4Y</td>\n",
       "      <td>Dusk Till Dawn - Radio Edit</td>\n",
       "      <td>ZAYN</td>\n",
       "      <td>0.258</td>\n",
       "      <td>0.437</td>\n",
       "      <td>11.0</td>\n",
       "      <td>-6.593</td>\n",
       "      <td>0.0</td>\n",
       "      <td>0.039</td>\n",
       "      <td>0.101</td>\n",
       "      <td>0.000001</td>\n",
       "      <td>0.1060</td>\n",
       "      <td>0.0967</td>\n",
       "      <td>180.043</td>\n",
       "      <td>239000.0</td>\n",
       "      <td>4.0</td>\n",
       "    </tr>\n",
       "  </tbody>\n",
       "</table>\n",
       "</div>"
      ],
      "text/plain": [
       "                       id                            name       artists  \\\n",
       "22  5uCax9HTNlzGybIStD3vD            Say You Won't Let Go  James Arthur   \n",
       "66  5hYTyyh2odQKphUbMqc5g  How Far I'll Go - From \"Moana\"  Alessia Cara   \n",
       "99  1j4kHkkpqZRBwE0A4CN4Y     Dusk Till Dawn - Radio Edit          ZAYN   \n",
       "\n",
       "    danceability  energy   key  loudness  mode  speechiness  acousticness  \\\n",
       "22         0.358   0.557  10.0    -7.398   1.0        0.059         0.695   \n",
       "66         0.314   0.555   9.0    -9.601   1.0        0.370         0.157   \n",
       "99         0.258   0.437  11.0    -6.593   0.0        0.039         0.101   \n",
       "\n",
       "    instrumentalness  liveness  valence    tempo  duration_ms  time_signature  \n",
       "22          0.000000    0.0902   0.4940   85.043     211467.0             4.0  \n",
       "66          0.000108    0.0670   0.1590  179.666     175517.0             4.0  \n",
       "99          0.000001    0.1060   0.0967  180.043     239000.0             4.0  "
      ]
     },
     "execution_count": 69,
     "metadata": {},
     "output_type": "execute_result"
    }
   ],
   "source": [
    "df[(df['danceability'] < 0.4)].head()"
   ]
  },
  {
   "cell_type": "markdown",
   "metadata": {},
   "source": [
    "Tracks with a bpm between **90 and 130bpm** have a danceability rating between **0.6 and 1.0**.  This makes sense as that tempo range covers a wide array of song genres, such as rock, hip hop, and dance.  Good groove = good sales."
   ]
  },
  {
   "cell_type": "markdown",
   "metadata": {},
   "source": [
    "## Danceability Vs. Loudness"
   ]
  },
  {
   "cell_type": "code",
   "execution_count": 70,
   "metadata": {
    "scrolled": false
   },
   "outputs": [
    {
     "data": {
      "image/png": "[encoded data removed]",
      "text/plain": [
       "<Figure size 720x720 with 1 Axes>"
      ]
     },
     "metadata": {},
     "output_type": "display_data"
    }
   ],
   "source": [
    "with plt.style.context('dark_background'):\n",
    "    plt.figure(figsize=(10,10))\n",
    "    plt.scatter(x=df['danceability'], y = df['loudness'], color = 'red' )\n",
    "    plt.xlabel('Danceability')\n",
    "    plt.ylabel('Loudness')\n",
    "    plt.title('Danceability Vs. Loudness')\n",
    "    plt.text(0.75, -10.5, \"Redbone\")\n",
    "    plt.text(0.725, -11.7, \"Location\")\n",
    "    plt.text(0.82, -11.4, \"Passionfruit\")\n",
    "    plt.show()"
   ]
  },
  {
   "cell_type": "code",
   "execution_count": 71,
   "metadata": {},
   "outputs": [
    {
     "data": {
      "text/html": [
       "<div>\n",
       "<style scoped>\n",
       "    .dataframe tbody tr th:only-of-type {\n",
       "        vertical-align: middle;\n",
       "    }\n",
       "\n",
       "    .dataframe tbody tr th {\n",
       "        vertical-align: top;\n",
       "    }\n",
       "\n",
       "    .dataframe thead th {\n",
       "        text-align: right;\n",
       "    }\n",
       "</style>\n",
       "<table border=\"1\" class=\"dataframe\">\n",
       "  <thead>\n",
       "    <tr style=\"text-align: right;\">\n",
       "      <th></th>\n",
       "      <th>id</th>\n",
       "      <th>name</th>\n",
       "      <th>artists</th>\n",
       "      <th>danceability</th>\n",
       "      <th>energy</th>\n",
       "      <th>key</th>\n",
       "      <th>loudness</th>\n",
       "      <th>mode</th>\n",
       "      <th>speechiness</th>\n",
       "      <th>acousticness</th>\n",
       "      <th>instrumentalness</th>\n",
       "      <th>liveness</th>\n",
       "      <th>valence</th>\n",
       "      <th>tempo</th>\n",
       "      <th>duration_ms</th>\n",
       "      <th>time_signature</th>\n",
       "    </tr>\n",
       "  </thead>\n",
       "  <tbody>\n",
       "    <tr>\n",
       "      <th>36</th>\n",
       "      <td>7hDc8b7IXETo14hHIHdnh</td>\n",
       "      <td>Passionfruit</td>\n",
       "      <td>Drake</td>\n",
       "      <td>0.809</td>\n",
       "      <td>0.463</td>\n",
       "      <td>11.0</td>\n",
       "      <td>-11.377</td>\n",
       "      <td>1.0</td>\n",
       "      <td>0.0396</td>\n",
       "      <td>0.256</td>\n",
       "      <td>0.085000</td>\n",
       "      <td>0.1090</td>\n",
       "      <td>0.364</td>\n",
       "      <td>111.980</td>\n",
       "      <td>298941.0</td>\n",
       "      <td>4.0</td>\n",
       "    </tr>\n",
       "    <tr>\n",
       "      <th>46</th>\n",
       "      <td>152lZdxL1OR0ZMW6KquMi</td>\n",
       "      <td>Location</td>\n",
       "      <td>Khalid</td>\n",
       "      <td>0.736</td>\n",
       "      <td>0.449</td>\n",
       "      <td>1.0</td>\n",
       "      <td>-11.462</td>\n",
       "      <td>0.0</td>\n",
       "      <td>0.4250</td>\n",
       "      <td>0.330</td>\n",
       "      <td>0.000162</td>\n",
       "      <td>0.0898</td>\n",
       "      <td>0.326</td>\n",
       "      <td>80.126</td>\n",
       "      <td>219080.0</td>\n",
       "      <td>4.0</td>\n",
       "    </tr>\n",
       "    <tr>\n",
       "      <th>58</th>\n",
       "      <td>3kxfsdsCpFgN412fpnW85</td>\n",
       "      <td>Redbone</td>\n",
       "      <td>Childish Gambino</td>\n",
       "      <td>0.743</td>\n",
       "      <td>0.359</td>\n",
       "      <td>1.0</td>\n",
       "      <td>-10.401</td>\n",
       "      <td>1.0</td>\n",
       "      <td>0.0794</td>\n",
       "      <td>0.199</td>\n",
       "      <td>0.006110</td>\n",
       "      <td>0.1370</td>\n",
       "      <td>0.587</td>\n",
       "      <td>160.083</td>\n",
       "      <td>326933.0</td>\n",
       "      <td>4.0</td>\n",
       "    </tr>\n",
       "  </tbody>\n",
       "</table>\n",
       "</div>"
      ],
      "text/plain": [
       "                       id          name           artists  danceability  \\\n",
       "36  7hDc8b7IXETo14hHIHdnh  Passionfruit             Drake         0.809   \n",
       "46  152lZdxL1OR0ZMW6KquMi      Location            Khalid         0.736   \n",
       "58  3kxfsdsCpFgN412fpnW85       Redbone  Childish Gambino         0.743   \n",
       "\n",
       "    energy   key  loudness  mode  speechiness  acousticness  instrumentalness  \\\n",
       "36   0.463  11.0   -11.377   1.0       0.0396         0.256          0.085000   \n",
       "46   0.449   1.0   -11.462   0.0       0.4250         0.330          0.000162   \n",
       "58   0.359   1.0   -10.401   1.0       0.0794         0.199          0.006110   \n",
       "\n",
       "    liveness  valence    tempo  duration_ms  time_signature  \n",
       "36    0.1090    0.364  111.980     298941.0             4.0  \n",
       "46    0.0898    0.326   80.126     219080.0             4.0  \n",
       "58    0.1370    0.587  160.083     326933.0             4.0  "
      ]
     },
     "execution_count": 71,
     "metadata": {},
     "output_type": "execute_result"
    }
   ],
   "source": [
    "df[(df['loudness'] < -10)].head()"
   ]
  },
  {
   "cell_type": "markdown",
   "metadata": {},
   "source": [
    "\"Passionfruit,\" \"Location,\" and \"Redbone\" are lower on \"loudness,\" spread out on tempo, but have a higher danceability rating. It is interesting to see that danceability is usually higher for louder songs, but not in all cases.  Let's take a look to see if there are any other trends we can find."
   ]
  },
  {
   "cell_type": "markdown",
   "metadata": {},
   "source": [
    "## Category Means"
   ]
  },
  {
   "cell_type": "code",
   "execution_count": 72,
   "metadata": {},
   "outputs": [
    {
     "name": "stdout",
     "output_type": "stream",
     "text": [
      "danceability mean =  0.6968199999999999\n",
      "energy mean =  0.6606899999999999\n",
      "key mean =  5.57\n",
      "loudness mean =  -5.6526499999999995\n",
      "speechiness mean =  0.10396899999999999\n",
      "acousticness mean =  0.16630648999999997\n",
      "instrumentalness mean =  0.0047961442\n",
      "liveness mean =  0.15060700000000002\n",
      "valence mean =  0.5170489999999999\n",
      "tempo mean =  119.20246000000002\n"
     ]
    }
   ],
   "source": [
    "danceability = df['danceability'].mean()\n",
    "print (\"danceability mean = \", danceability)\n",
    "energy = df['energy'].mean()\n",
    "print (\"energy mean = \", energy)\n",
    "key = df['key'].mean()\n",
    "print (\"key mean = \", key)\n",
    "loudness = df['loudness'].mean()\n",
    "print (\"loudness mean = \", loudness)\n",
    "speechiness = df['speechiness'].mean()\n",
    "print (\"speechiness mean = \", speechiness)\n",
    "acousticness = df['acousticness'].mean()\n",
    "print (\"acousticness mean = \", acousticness)\n",
    "instrumentalness = df['instrumentalness'].mean()\n",
    "print (\"instrumentalness mean = \", instrumentalness)\n",
    "liveness = df['liveness'].mean()\n",
    "print (\"liveness mean = \", liveness)\n",
    "valence = df['valence'].mean()\n",
    "print (\"valence mean = \", valence)\n",
    "tempo = df['tempo'].mean()\n",
    "print (\"tempo mean = \", tempo)"
   ]
  },
  {
   "cell_type": "markdown",
   "metadata": {},
   "source": [
    "## Category Medians"
   ]
  },
  {
   "cell_type": "code",
   "execution_count": 73,
   "metadata": {},
   "outputs": [
    {
     "name": "stdout",
     "output_type": "stream",
     "text": [
      "danceability median =  0.714\n",
      "energy median =  0.6675\n",
      "key median =  6.0\n",
      "loudness median =  -5.436999999999999\n",
      "speechiness median =  0.06265\n",
      "acousticness median =  0.10650000000000001\n",
      "instrumentalness median =  0.0\n",
      "liveness median =  0.125\n",
      "valence median =  0.5025\n",
      "tempo median =  112.468\n"
     ]
    }
   ],
   "source": [
    "danceability_med = df['danceability'].median()\n",
    "print (\"danceability median = \", danceability_med)\n",
    "energy_med = df['energy'].median()\n",
    "print (\"energy median = \", energy_med)\n",
    "key_med = df['key'].median()\n",
    "print (\"key median = \", key_med)\n",
    "loudness_med = df['loudness'].median()\n",
    "print (\"loudness median = \", loudness_med)\n",
    "speechiness_med = df['speechiness'].median()\n",
    "print (\"speechiness median = \", speechiness_med)\n",
    "acousticness_med = df['acousticness'].median()\n",
    "print (\"acousticness median = \", acousticness_med)\n",
    "instrumentalness_med = df['instrumentalness'].median()\n",
    "print (\"instrumentalness median = \", instrumentalness_med)\n",
    "liveness_med = df['liveness'].median()\n",
    "print (\"liveness median = \", liveness_med)\n",
    "valence_med = df['valence'].median()\n",
    "print (\"valence median = \", valence_med)\n",
    "tempo_med = df['tempo'].median()\n",
    "print (\"tempo median = \", tempo_med)"
   ]
  },
  {
   "cell_type": "code",
   "execution_count": 74,
   "metadata": {},
   "outputs": [],
   "source": [
    "feature_mean = [danceability, energy, key, loudness, speechiness, acousticness, \n",
    "                instrumentalness, liveness, valence, tempo]\n",
    "feature_median = [danceability_med, energy_med, key_med, loudness_med, speechiness_med, \n",
    "                  acousticness_med,instrumentalness_med, liveness_med, valence_med, tempo_med]\n",
    "feature_names = [\"danceability\", \"energy\", \"key\", \"loudness\", \"speechiness\", \"acousticness\", \n",
    "                 \"instrumentalness\",\"liveness\", \"valence\", \"tempo\"]\n",
    "feature_summary = pd.DataFrame({\"Feature Names\":feature_names,\n",
    "                               \"Feature Means\":feature_mean,\n",
    "                               \"Feature Medians\":feature_median})"
   ]
  },
  {
   "cell_type": "code",
   "execution_count": 75,
   "metadata": {},
   "outputs": [],
   "source": [
    "feature_summary_no_tempo = feature_summary[(feature_summary[\"Feature Names\"] != \"tempo\")]"
   ]
  },
  {
   "cell_type": "code",
   "execution_count": 76,
   "metadata": {},
   "outputs": [
    {
     "data": {
      "text/html": [
       "<div>\n",
       "<style scoped>\n",
       "    .dataframe tbody tr th:only-of-type {\n",
       "        vertical-align: middle;\n",
       "    }\n",
       "\n",
       "    .dataframe tbody tr th {\n",
       "        vertical-align: top;\n",
       "    }\n",
       "\n",
       "    .dataframe thead th {\n",
       "        text-align: right;\n",
       "    }\n",
       "</style>\n",
       "<table border=\"1\" class=\"dataframe\">\n",
       "  <thead>\n",
       "    <tr style=\"text-align: right;\">\n",
       "      <th></th>\n",
       "      <th>Feature Names</th>\n",
       "      <th>Feature Means</th>\n",
       "      <th>Feature Medians</th>\n",
       "    </tr>\n",
       "  </thead>\n",
       "  <tbody>\n",
       "    <tr>\n",
       "      <th>0</th>\n",
       "      <td>danceability</td>\n",
       "      <td>0.696820</td>\n",
       "      <td>0.71400</td>\n",
       "    </tr>\n",
       "    <tr>\n",
       "      <th>1</th>\n",
       "      <td>energy</td>\n",
       "      <td>0.660690</td>\n",
       "      <td>0.66750</td>\n",
       "    </tr>\n",
       "    <tr>\n",
       "      <th>2</th>\n",
       "      <td>key</td>\n",
       "      <td>5.570000</td>\n",
       "      <td>6.00000</td>\n",
       "    </tr>\n",
       "    <tr>\n",
       "      <th>3</th>\n",
       "      <td>loudness</td>\n",
       "      <td>-5.652650</td>\n",
       "      <td>-5.43700</td>\n",
       "    </tr>\n",
       "    <tr>\n",
       "      <th>4</th>\n",
       "      <td>speechiness</td>\n",
       "      <td>0.103969</td>\n",
       "      <td>0.06265</td>\n",
       "    </tr>\n",
       "  </tbody>\n",
       "</table>\n",
       "</div>"
      ],
      "text/plain": [
       "  Feature Names  Feature Means  Feature Medians\n",
       "0  danceability       0.696820          0.71400\n",
       "1        energy       0.660690          0.66750\n",
       "2           key       5.570000          6.00000\n",
       "3      loudness      -5.652650         -5.43700\n",
       "4   speechiness       0.103969          0.06265"
      ]
     },
     "execution_count": 76,
     "metadata": {},
     "output_type": "execute_result"
    }
   ],
   "source": [
    "feature_summary.head()"
   ]
  },
  {
   "cell_type": "code",
   "execution_count": 77,
   "metadata": {},
   "outputs": [],
   "source": [
    "feature_summary.set_index(\"Feature Names\", inplace = True)"
   ]
  },
  {
   "cell_type": "code",
   "execution_count": 78,
   "metadata": {},
   "outputs": [],
   "source": [
    "feature_summary_no_tempo.set_index(\"Feature Names\", inplace = True)"
   ]
  },
  {
   "cell_type": "code",
   "execution_count": 79,
   "metadata": {},
   "outputs": [
    {
     "data": {
      "text/html": [
       "<div>\n",
       "<style scoped>\n",
       "    .dataframe tbody tr th:only-of-type {\n",
       "        vertical-align: middle;\n",
       "    }\n",
       "\n",
       "    .dataframe tbody tr th {\n",
       "        vertical-align: top;\n",
       "    }\n",
       "\n",
       "    .dataframe thead th {\n",
       "        text-align: right;\n",
       "    }\n",
       "</style>\n",
       "<table border=\"1\" class=\"dataframe\">\n",
       "  <thead>\n",
       "    <tr style=\"text-align: right;\">\n",
       "      <th></th>\n",
       "      <th>Feature Means</th>\n",
       "      <th>Feature Medians</th>\n",
       "    </tr>\n",
       "    <tr>\n",
       "      <th>Feature Names</th>\n",
       "      <th></th>\n",
       "      <th></th>\n",
       "    </tr>\n",
       "  </thead>\n",
       "  <tbody>\n",
       "    <tr>\n",
       "      <th>danceability</th>\n",
       "      <td>0.696820</td>\n",
       "      <td>0.71400</td>\n",
       "    </tr>\n",
       "    <tr>\n",
       "      <th>energy</th>\n",
       "      <td>0.660690</td>\n",
       "      <td>0.66750</td>\n",
       "    </tr>\n",
       "    <tr>\n",
       "      <th>key</th>\n",
       "      <td>5.570000</td>\n",
       "      <td>6.00000</td>\n",
       "    </tr>\n",
       "    <tr>\n",
       "      <th>loudness</th>\n",
       "      <td>-5.652650</td>\n",
       "      <td>-5.43700</td>\n",
       "    </tr>\n",
       "    <tr>\n",
       "      <th>speechiness</th>\n",
       "      <td>0.103969</td>\n",
       "      <td>0.06265</td>\n",
       "    </tr>\n",
       "  </tbody>\n",
       "</table>\n",
       "</div>"
      ],
      "text/plain": [
       "               Feature Means  Feature Medians\n",
       "Feature Names                                \n",
       "danceability        0.696820          0.71400\n",
       "energy              0.660690          0.66750\n",
       "key                 5.570000          6.00000\n",
       "loudness           -5.652650         -5.43700\n",
       "speechiness         0.103969          0.06265"
      ]
     },
     "execution_count": 79,
     "metadata": {},
     "output_type": "execute_result"
    }
   ],
   "source": [
    "feature_summary.head()"
   ]
  },
  {
   "cell_type": "code",
   "execution_count": 80,
   "metadata": {},
   "outputs": [
    {
     "data": {
      "image/png": "[encoded data removed]",
      "text/plain": [
       "<Figure size 720x432 with 1 Axes>"
      ]
     },
     "metadata": {},
     "output_type": "display_data"
    }
   ],
   "source": [
    "with plt.style.context('fivethirtyeight'):\n",
    "    feature_final = feature_summary.plot(kind = 'bar', figsize = [10, 6])\n",
    "    feature_final.set_xlabel('')\n",
    "    feature_final.set_ylabel('')\n",
    "    feature_final.set_title('Category Mean & Median')\n",
    "    plt.xticks(rotation=90)\n",
    "    plt.show()"
   ]
  },
  {
   "cell_type": "markdown",
   "metadata": {},
   "source": [
    "Tempo largely skews the view of the graph, so let's take that out to better see everything else."
   ]
  },
  {
   "cell_type": "code",
   "execution_count": 81,
   "metadata": {},
   "outputs": [
    {
     "data": {
      "image/png": "[encoded data removed]",
      "text/plain": [
       "<Figure size 720x432 with 1 Axes>"
      ]
     },
     "metadata": {},
     "output_type": "display_data"
    }
   ],
   "source": [
    "with plt.style.context('fivethirtyeight'):\n",
    "    feature_final = feature_summary_no_tempo.plot(kind = 'bar', figsize = [10, 6])\n",
    "    feature_final.set_xlabel('')\n",
    "    feature_final.set_ylabel('')\n",
    "    feature_final.set_title('Category Mean & Median')\n",
    "    plt.xticks(rotation=90)\n",
    "    plt.show()"
   ]
  },
  {
   "cell_type": "markdown",
   "metadata": {},
   "source": [
    "These categories seem to all have similar means and medians.  This shows that the categories do not have too many\n",
    "outlier values."
   ]
  },
  {
   "cell_type": "markdown",
   "metadata": {},
   "source": [
    "## Other Items of Note:\n",
    "It does not appear that the songs are in order of popularity.  There was nothing to denote order from kaggle.com.  Spotify's current \"Top Songs of 2017\" has 46 songs (as of 7/10/18) and they are in a different order from the data set from kaggle.com as well."
   ]
  },
  {
   "cell_type": "markdown",
   "metadata": {},
   "source": [
    "# <h1><center>Common Characteristics and Differences - Summary</center></h1>\n",
    "---"
   ]
  },
  {
   "cell_type": "markdown",
   "metadata": {},
   "source": [
    "We now have our parameters to find the songs with the most commonly shared characteristics.  Let's start by filtering tempo, duration, and loudness.  "
   ]
  },
  {
   "cell_type": "code",
   "execution_count": 82,
   "metadata": {},
   "outputs": [
    {
     "data": {
      "text/plain": [
       "(24, 16)"
      ]
     },
     "execution_count": 82,
     "metadata": {},
     "output_type": "execute_result"
    }
   ],
   "source": [
    "df_formula_song = df[(df['tempo'] >= 90) & (df['tempo'] <= 125) & (df['duration_ms'] >= 187500) & \n",
    "                    (df['duration_ms'] <= 237500) & (df['loudness'] >= -7.0) & (df['loudness'] <= -4.25)]\n",
    "df_formula_song.shape"
   ]
  },
  {
   "cell_type": "markdown",
   "metadata": {},
   "source": [
    "We are down to 24/100 songs.  How can we bring this list down?"
   ]
  },
  {
   "cell_type": "code",
   "execution_count": 83,
   "metadata": {},
   "outputs": [
    {
     "data": {
      "text/plain": [
       "(20, 16)"
      ]
     },
     "execution_count": 83,
     "metadata": {},
     "output_type": "execute_result"
    }
   ],
   "source": [
    "df_formula_song_two = df[(df['tempo'] >= 90) & (df['tempo'] <= 125) & (df['duration_ms'] >= 187500) & \n",
    "                    (df['duration_ms'] <= 237500) & (df['loudness'] >= -7.0) & (df['loudness'] <= -4.25) &\n",
    "                    (df['key'] != 3.0) & (df['key'] != 4.0) & (df['key'] != 10.0)]\n",
    "df_formula_song_two.shape"
   ]
  },
  {
   "cell_type": "markdown",
   "metadata": {},
   "source": [
    "Filtering out the outlier musical keys only eliminated 4 songs, so let's filter by mode (Major)."
   ]
  },
  {
   "cell_type": "code",
   "execution_count": 84,
   "metadata": {},
   "outputs": [
    {
     "data": {
      "text/plain": [
       "(10, 16)"
      ]
     },
     "execution_count": 84,
     "metadata": {},
     "output_type": "execute_result"
    }
   ],
   "source": [
    "df_formula_song_three = df[(df['tempo'] >= 90) & (df['tempo'] <= 125) & (df['duration_ms'] >= 187500) & \n",
    "                    (df['duration_ms'] <= 237500) & (df['loudness'] >= -7.0) & (df['loudness'] <= -4.25) &\n",
    "                    (df['key'] != 3.0) & (df['key'] != 4.0) & (df['key'] != 10.0) & (df['mode'] == 1.0)]\n",
    "df_formula_song_three.shape"
   ]
  },
  {
   "cell_type": "code",
   "execution_count": 85,
   "metadata": {},
   "outputs": [
    {
     "data": {
      "text/html": [
       "<div>\n",
       "<style scoped>\n",
       "    .dataframe tbody tr th:only-of-type {\n",
       "        vertical-align: middle;\n",
       "    }\n",
       "\n",
       "    .dataframe tbody tr th {\n",
       "        vertical-align: top;\n",
       "    }\n",
       "\n",
       "    .dataframe thead th {\n",
       "        text-align: right;\n",
       "    }\n",
       "</style>\n",
       "<table border=\"1\" class=\"dataframe\">\n",
       "  <thead>\n",
       "    <tr style=\"text-align: right;\">\n",
       "      <th></th>\n",
       "      <th>id</th>\n",
       "      <th>name</th>\n",
       "      <th>artists</th>\n",
       "      <th>danceability</th>\n",
       "      <th>energy</th>\n",
       "      <th>key</th>\n",
       "      <th>loudness</th>\n",
       "      <th>mode</th>\n",
       "      <th>speechiness</th>\n",
       "      <th>acousticness</th>\n",
       "      <th>instrumentalness</th>\n",
       "      <th>liveness</th>\n",
       "      <th>valence</th>\n",
       "      <th>tempo</th>\n",
       "      <th>duration_ms</th>\n",
       "      <th>time_signature</th>\n",
       "    </tr>\n",
       "  </thead>\n",
       "  <tbody>\n",
       "    <tr>\n",
       "      <th>6</th>\n",
       "      <td>3eR23VReFzcdmS7TYCrhC</td>\n",
       "      <td>It Ain't Me (with Selena Gomez)</td>\n",
       "      <td>Kygo</td>\n",
       "      <td>0.640</td>\n",
       "      <td>0.533</td>\n",
       "      <td>0.0</td>\n",
       "      <td>-6.596</td>\n",
       "      <td>1.0</td>\n",
       "      <td>0.0706</td>\n",
       "      <td>0.11900</td>\n",
       "      <td>0.000000</td>\n",
       "      <td>0.0864</td>\n",
       "      <td>0.515</td>\n",
       "      <td>99.968</td>\n",
       "      <td>220781.0</td>\n",
       "      <td>4.0</td>\n",
       "    </tr>\n",
       "    <tr>\n",
       "      <th>7</th>\n",
       "      <td>3B54sVLJ402zGa6Xm4YGN</td>\n",
       "      <td>Unforgettable</td>\n",
       "      <td>French Montana</td>\n",
       "      <td>0.726</td>\n",
       "      <td>0.769</td>\n",
       "      <td>6.0</td>\n",
       "      <td>-5.043</td>\n",
       "      <td>1.0</td>\n",
       "      <td>0.1230</td>\n",
       "      <td>0.02930</td>\n",
       "      <td>0.010100</td>\n",
       "      <td>0.1040</td>\n",
       "      <td>0.733</td>\n",
       "      <td>97.985</td>\n",
       "      <td>233902.0</td>\n",
       "      <td>4.0</td>\n",
       "    </tr>\n",
       "    <tr>\n",
       "      <th>11</th>\n",
       "      <td>72jbDTw1piOOj770jWNea</td>\n",
       "      <td>Paris</td>\n",
       "      <td>The Chainsmokers</td>\n",
       "      <td>0.653</td>\n",
       "      <td>0.658</td>\n",
       "      <td>2.0</td>\n",
       "      <td>-6.428</td>\n",
       "      <td>1.0</td>\n",
       "      <td>0.0304</td>\n",
       "      <td>0.02150</td>\n",
       "      <td>0.000002</td>\n",
       "      <td>0.0939</td>\n",
       "      <td>0.219</td>\n",
       "      <td>99.990</td>\n",
       "      <td>221507.0</td>\n",
       "      <td>4.0</td>\n",
       "    </tr>\n",
       "    <tr>\n",
       "      <th>24</th>\n",
       "      <td>6De0lHrwBfPfrhorm9q1X</td>\n",
       "      <td>Me Rehúso</td>\n",
       "      <td>Danny Ocean</td>\n",
       "      <td>0.744</td>\n",
       "      <td>0.804</td>\n",
       "      <td>1.0</td>\n",
       "      <td>-6.327</td>\n",
       "      <td>1.0</td>\n",
       "      <td>0.0677</td>\n",
       "      <td>0.02310</td>\n",
       "      <td>0.000000</td>\n",
       "      <td>0.0494</td>\n",
       "      <td>0.426</td>\n",
       "      <td>104.823</td>\n",
       "      <td>205715.0</td>\n",
       "      <td>4.0</td>\n",
       "    </tr>\n",
       "    <tr>\n",
       "      <th>38</th>\n",
       "      <td>6EpRaXYhGOB3fj4V2uDkM</td>\n",
       "      <td>Strip That Down</td>\n",
       "      <td>Liam Payne</td>\n",
       "      <td>0.869</td>\n",
       "      <td>0.485</td>\n",
       "      <td>6.0</td>\n",
       "      <td>-5.595</td>\n",
       "      <td>1.0</td>\n",
       "      <td>0.0545</td>\n",
       "      <td>0.24600</td>\n",
       "      <td>0.000000</td>\n",
       "      <td>0.0765</td>\n",
       "      <td>0.527</td>\n",
       "      <td>106.028</td>\n",
       "      <td>204502.0</td>\n",
       "      <td>4.0</td>\n",
       "    </tr>\n",
       "    <tr>\n",
       "      <th>44</th>\n",
       "      <td>0qYTZCo5Bwh1nsUFGZP3z</td>\n",
       "      <td>Felices los 4</td>\n",
       "      <td>Maluma</td>\n",
       "      <td>0.755</td>\n",
       "      <td>0.789</td>\n",
       "      <td>5.0</td>\n",
       "      <td>-4.502</td>\n",
       "      <td>1.0</td>\n",
       "      <td>0.1460</td>\n",
       "      <td>0.23100</td>\n",
       "      <td>0.000000</td>\n",
       "      <td>0.3510</td>\n",
       "      <td>0.737</td>\n",
       "      <td>93.973</td>\n",
       "      <td>229849.0</td>\n",
       "      <td>4.0</td>\n",
       "    </tr>\n",
       "    <tr>\n",
       "      <th>59</th>\n",
       "      <td>6b8Be6ljOzmkOmFslEb23</td>\n",
       "      <td>24K Magic</td>\n",
       "      <td>Bruno Mars</td>\n",
       "      <td>0.818</td>\n",
       "      <td>0.803</td>\n",
       "      <td>1.0</td>\n",
       "      <td>-4.282</td>\n",
       "      <td>1.0</td>\n",
       "      <td>0.0797</td>\n",
       "      <td>0.03400</td>\n",
       "      <td>0.000000</td>\n",
       "      <td>0.1530</td>\n",
       "      <td>0.632</td>\n",
       "      <td>106.970</td>\n",
       "      <td>225983.0</td>\n",
       "      <td>4.0</td>\n",
       "    </tr>\n",
       "    <tr>\n",
       "      <th>65</th>\n",
       "      <td>2QbFClFyhMMtiurUjuQlA</td>\n",
       "      <td>Don't Wanna Know (feat. Kendrick Lamar)</td>\n",
       "      <td>Maroon 5</td>\n",
       "      <td>0.775</td>\n",
       "      <td>0.617</td>\n",
       "      <td>7.0</td>\n",
       "      <td>-6.166</td>\n",
       "      <td>1.0</td>\n",
       "      <td>0.0701</td>\n",
       "      <td>0.34100</td>\n",
       "      <td>0.000000</td>\n",
       "      <td>0.0985</td>\n",
       "      <td>0.485</td>\n",
       "      <td>100.048</td>\n",
       "      <td>214265.0</td>\n",
       "      <td>4.0</td>\n",
       "    </tr>\n",
       "    <tr>\n",
       "      <th>82</th>\n",
       "      <td>3E2Zh20GDCR9B1EYjfXWy</td>\n",
       "      <td>Weak</td>\n",
       "      <td>AJR</td>\n",
       "      <td>0.673</td>\n",
       "      <td>0.637</td>\n",
       "      <td>5.0</td>\n",
       "      <td>-4.518</td>\n",
       "      <td>1.0</td>\n",
       "      <td>0.0429</td>\n",
       "      <td>0.13700</td>\n",
       "      <td>0.000000</td>\n",
       "      <td>0.1840</td>\n",
       "      <td>0.678</td>\n",
       "      <td>123.980</td>\n",
       "      <td>201160.0</td>\n",
       "      <td>4.0</td>\n",
       "    </tr>\n",
       "    <tr>\n",
       "      <th>93</th>\n",
       "      <td>7nZmah2llfvLDiUjm0kiy</td>\n",
       "      <td>Friends (with BloodPop®)</td>\n",
       "      <td>Justin Bieber</td>\n",
       "      <td>0.744</td>\n",
       "      <td>0.739</td>\n",
       "      <td>8.0</td>\n",
       "      <td>-5.350</td>\n",
       "      <td>1.0</td>\n",
       "      <td>0.0387</td>\n",
       "      <td>0.00459</td>\n",
       "      <td>0.000000</td>\n",
       "      <td>0.3060</td>\n",
       "      <td>0.649</td>\n",
       "      <td>104.990</td>\n",
       "      <td>189467.0</td>\n",
       "      <td>4.0</td>\n",
       "    </tr>\n",
       "  </tbody>\n",
       "</table>\n",
       "</div>"
      ],
      "text/plain": [
       "                       id                                     name  \\\n",
       "6   3eR23VReFzcdmS7TYCrhC          It Ain't Me (with Selena Gomez)   \n",
       "7   3B54sVLJ402zGa6Xm4YGN                            Unforgettable   \n",
       "11  72jbDTw1piOOj770jWNea                                    Paris   \n",
       "24  6De0lHrwBfPfrhorm9q1X                                Me Rehúso   \n",
       "38  6EpRaXYhGOB3fj4V2uDkM                          Strip That Down   \n",
       "44  0qYTZCo5Bwh1nsUFGZP3z                            Felices los 4   \n",
       "59  6b8Be6ljOzmkOmFslEb23                                24K Magic   \n",
       "65  2QbFClFyhMMtiurUjuQlA  Don't Wanna Know (feat. Kendrick Lamar)   \n",
       "82  3E2Zh20GDCR9B1EYjfXWy                                     Weak   \n",
       "93  7nZmah2llfvLDiUjm0kiy                 Friends (with BloodPop®)   \n",
       "\n",
       "             artists  danceability  energy  key  loudness  mode  speechiness  \\\n",
       "6               Kygo         0.640   0.533  0.0    -6.596   1.0       0.0706   \n",
       "7     French Montana         0.726   0.769  6.0    -5.043   1.0       0.1230   \n",
       "11  The Chainsmokers         0.653   0.658  2.0    -6.428   1.0       0.0304   \n",
       "24       Danny Ocean         0.744   0.804  1.0    -6.327   1.0       0.0677   \n",
       "38        Liam Payne         0.869   0.485  6.0    -5.595   1.0       0.0545   \n",
       "44            Maluma         0.755   0.789  5.0    -4.502   1.0       0.1460   \n",
       "59        Bruno Mars         0.818   0.803  1.0    -4.282   1.0       0.0797   \n",
       "65          Maroon 5         0.775   0.617  7.0    -6.166   1.0       0.0701   \n",
       "82               AJR         0.673   0.637  5.0    -4.518   1.0       0.0429   \n",
       "93     Justin Bieber         0.744   0.739  8.0    -5.350   1.0       0.0387   \n",
       "\n",
       "    acousticness  instrumentalness  liveness  valence    tempo  duration_ms  \\\n",
       "6        0.11900          0.000000    0.0864    0.515   99.968     220781.0   \n",
       "7        0.02930          0.010100    0.1040    0.733   97.985     233902.0   \n",
       "11       0.02150          0.000002    0.0939    0.219   99.990     221507.0   \n",
       "24       0.02310          0.000000    0.0494    0.426  104.823     205715.0   \n",
       "38       0.24600          0.000000    0.0765    0.527  106.028     204502.0   \n",
       "44       0.23100          0.000000    0.3510    0.737   93.973     229849.0   \n",
       "59       0.03400          0.000000    0.1530    0.632  106.970     225983.0   \n",
       "65       0.34100          0.000000    0.0985    0.485  100.048     214265.0   \n",
       "82       0.13700          0.000000    0.1840    0.678  123.980     201160.0   \n",
       "93       0.00459          0.000000    0.3060    0.649  104.990     189467.0   \n",
       "\n",
       "    time_signature  \n",
       "6              4.0  \n",
       "7              4.0  \n",
       "11             4.0  \n",
       "24             4.0  \n",
       "38             4.0  \n",
       "44             4.0  \n",
       "59             4.0  \n",
       "65             4.0  \n",
       "82             4.0  \n",
       "93             4.0  "
      ]
     },
     "execution_count": 85,
     "metadata": {},
     "output_type": "execute_result"
    }
   ],
   "source": [
    "df_formula_song_three"
   ]
  },
  {
   "cell_type": "markdown",
   "metadata": {},
   "source": [
    "# <h1><center>Conclusion</center></h1>\n",
    "---"
   ]
  },
  {
   "cell_type": "markdown",
   "metadata": {},
   "source": [
    "These are the 10 most \"formula\" songs of the data set filtered by tempo, duration, loudness, key, and mode.  Time signature was pretty universal, so it was not used as a filter.  \n",
    "\n",
    "Danceability, energy, speechiness, acousticness, instrumentalness, liveness, and valence all had close means/medians and thus were not included in the filter section.  In addition, these seven measurements did not need to be included in the filter section because they are not inherent qualities of the songs.  Spotify had to determine these categories somehow.\n",
    "\n",
    "These numbers provide a good base to predict characteristics for a similar list in 2018 if musical listening trends are to continue as they are currently.  Using similar analytics to the ones in this report and adding advanced techniques (such as machine learning) would be a great approach."
   ]
  }
 ],
 "metadata": {
  "kernelspec": {
   "display_name": "Python 3",
   "language": "python",
   "name": "python3"
  },
  "language_info": {
   "codemirror_mode": {
    "name": "ipython",
    "version": 3
   },
   "file_extension": ".py",
   "mimetype": "text/x-python",
   "name": "python",
   "nbconvert_exporter": "python",
   "pygments_lexer": "ipython3",
   "version": "3.6.5"
  }
 },
 "nbformat": 4,
 "nbformat_minor": 2
}
